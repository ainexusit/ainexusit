{
 "cells": [
  {
   "cell_type": "code",
   "execution_count": null,
   "id": "06fc5a9f-bb09-44c0-8c3f-b1357b644b91",
   "metadata": {},
   "outputs": [],
   "source": [
    "Data Types:\n",
    "Type of Data \n",
    "\n",
    "1.int -  complete number [without decimal point]\n",
    "2.float - incomplete number [with decimal point]\n",
    "3.str - single char or multple chars \n",
    "4.bool - True | False\n",
    "5.None - Empty variable\n",
    "6.complex -  real + img number"
   ]
  },
  {
   "cell_type": "code",
   "execution_count": 1,
   "id": "ff26ea7a-5bd1-44b3-bd72-173dedad02b5",
   "metadata": {},
   "outputs": [],
   "source": [
    "age = 30.4"
   ]
  },
  {
   "cell_type": "code",
   "execution_count": 2,
   "id": "8fa8315f-0d4d-443d-b8b7-2bbeba1d4eda",
   "metadata": {},
   "outputs": [
    {
     "data": {
      "text/plain": [
       "float"
      ]
     },
     "execution_count": 2,
     "metadata": {},
     "output_type": "execute_result"
    }
   ],
   "source": [
    "type(age)"
   ]
  },
  {
   "cell_type": "code",
   "execution_count": 3,
   "id": "c5b51e56-7d99-45b2-b47f-1c72e978f344",
   "metadata": {},
   "outputs": [],
   "source": [
    "no_of_account = 5"
   ]
  },
  {
   "cell_type": "code",
   "execution_count": 4,
   "id": "e7a4b778-29fe-4cee-a154-6b72e52e4ecd",
   "metadata": {},
   "outputs": [
    {
     "data": {
      "text/plain": [
       "int"
      ]
     },
     "execution_count": 4,
     "metadata": {},
     "output_type": "execute_result"
    }
   ],
   "source": [
    "type(no_of_account)"
   ]
  },
  {
   "cell_type": "code",
   "execution_count": null,
   "id": "fdd30549-2c76-46de-9685-f7f215415994",
   "metadata": {},
   "outputs": [],
   "source": [
    "Data Structures in Python:\n",
    "===========================\n",
    "\n",
    "Data Structure:\n",
    "===============\n",
    "raw data store in perticular structure --> Data Structure\n",
    "\n",
    "1.list\n",
    "2.tuple\n",
    "3.set\n",
    "4.dict\n",
    "5.str\n",
    "6.frozenset"
   ]
  },
  {
   "cell_type": "code",
   "execution_count": null,
   "id": "05b0cfe7-736b-40cb-8b55-3e8eabfa6cf3",
   "metadata": {},
   "outputs": [],
   "source": [
    "1.list\n",
    "\n",
    "1.list is collection of elements/Data type /objects\n",
    "-similar elements - Homogeneous list\n",
    "-different type - Hetrogeneous list\n",
    "2.list is denoted by []\n",
    "3.it is mutable type DS\n",
    "4.element of list can be access through its index number\n",
    "\n",
    "reverse indexing\t\t\t\t\t\n",
    "\t-5\t-4\t-3\t-2\t-1\n",
    "negative indexing\t\n",
    "\n",
    "emp = \t101\tAmit\t45\tIT\tamit@gmail.com\n",
    "\t\t\t\t\t\n",
    "\t      0\t 1\t    2\t   3\t4\n",
    "forward indexing \t\t\t\t\t\n",
    "\t\t\t\t\t\n",
    "positive indexing\t\t\t\t\t\n",
    "5.list can contain content duplicate elements\n"
   ]
  },
  {
   "cell_type": "code",
   "execution_count": 12,
   "id": "e3397e46-c03d-48e0-bc86-375c12a6ee37",
   "metadata": {},
   "outputs": [],
   "source": [
    "empdetails = [101,'keshav',35,'keshav@gmail.com']"
   ]
  },
  {
   "cell_type": "code",
   "execution_count": 13,
   "id": "54d18dff-ac19-486a-8bc2-d5678209abc4",
   "metadata": {},
   "outputs": [
    {
     "data": {
      "text/plain": [
       "list"
      ]
     },
     "execution_count": 13,
     "metadata": {},
     "output_type": "execute_result"
    }
   ],
   "source": [
    "type(empdetails)"
   ]
  },
  {
   "cell_type": "code",
   "execution_count": null,
   "id": "876e3a9d-dec8-4d29-a4c8-0ed732796da6",
   "metadata": {},
   "outputs": [],
   "source": [
    "mutable |  Changable | unhashable\n",
    "DS -- > insert element | delete element | update element\n",
    "\n",
    "1.list\n",
    "2.set\n",
    "3.dict\n",
    "\n",
    "immutable | Unchangable | Hashable\n",
    "DS -- > not able to perform --> insert element | delete element | update element\n",
    "\n",
    "1.tuple\n",
    "2.str\n",
    "3.frozenset"
   ]
  },
  {
   "cell_type": "code",
   "execution_count": 14,
   "id": "137e49b7-10d7-4937-aacd-821562b3d02f",
   "metadata": {},
   "outputs": [],
   "source": [
    "age  = [23,756,23,76,34,786,34,75,34]"
   ]
  },
  {
   "cell_type": "code",
   "execution_count": 15,
   "id": "229457ef-e51a-407a-adb9-22ae47b2bdf5",
   "metadata": {},
   "outputs": [],
   "source": [
    "empdetails = [101,'keshav',35,'keshav@gmail.com',True,None,53.23]"
   ]
  },
  {
   "cell_type": "code",
   "execution_count": 16,
   "id": "abf32bc8-3bb0-4a12-8893-754944d58253",
   "metadata": {},
   "outputs": [],
   "source": [
    "p = [34,34,34,86,34,865,34,755,34,867,3,47,8655]"
   ]
  },
  {
   "cell_type": "code",
   "execution_count": null,
   "id": "64a58697-fa6a-4130-babb-806a6de08f3e",
   "metadata": {},
   "outputs": [],
   "source": [
    "Operation on list:\n",
    "===================\n",
    "1.Insertion\n",
    "    1.insert\n",
    "    2.append\n",
    "    3.extend"
   ]
  },
  {
   "cell_type": "code",
   "execution_count": 17,
   "id": "61d42ceb-d29e-42be-a8ac-40d0bd83b8c5",
   "metadata": {},
   "outputs": [
    {
     "data": {
      "text/plain": [
       "[101, 'keshav', 35, 'keshav@gmail.com', True, None, 53.23]"
      ]
     },
     "execution_count": 17,
     "metadata": {},
     "output_type": "execute_result"
    }
   ],
   "source": [
    "empdetails"
   ]
  },
  {
   "cell_type": "code",
   "execution_count": 19,
   "id": "58a38be0-c7a2-486e-997f-80a243b4b0b1",
   "metadata": {},
   "outputs": [],
   "source": [
    "emp = [101,'Rahul',53543,'rahul@gmail.com']"
   ]
  },
  {
   "cell_type": "code",
   "execution_count": 20,
   "id": "06315fdf-6b62-450c-925b-366a099063cd",
   "metadata": {},
   "outputs": [
    {
     "data": {
      "text/plain": [
       "53543"
      ]
     },
     "execution_count": 20,
     "metadata": {},
     "output_type": "execute_result"
    }
   ],
   "source": [
    "emp[2]"
   ]
  },
  {
   "cell_type": "code",
   "execution_count": 21,
   "id": "fcf248b4-b28e-462a-895d-b7c541ab2665",
   "metadata": {},
   "outputs": [
    {
     "data": {
      "text/plain": [
       "'rahul@gmail.com'"
      ]
     },
     "execution_count": 21,
     "metadata": {},
     "output_type": "execute_result"
    }
   ],
   "source": [
    "emp[-1]"
   ]
  },
  {
   "cell_type": "code",
   "execution_count": 22,
   "id": "cdbbb4bd-bc45-4140-b5c0-208bfbef7869",
   "metadata": {},
   "outputs": [],
   "source": [
    "emps = [[101,'Rahul',53543,'rahul@gmail.com'],\n",
    "        [102,'Amit',64664,'Amit@gmail.com'],\n",
    "        [103,'Jon',534545543,'Jon@gmail.com']]"
   ]
  },
  {
   "cell_type": "code",
   "execution_count": 23,
   "id": "84084797-c8e2-486f-8168-098554dcfa07",
   "metadata": {},
   "outputs": [
    {
     "name": "stdout",
     "output_type": "stream",
     "text": [
      "rahul@gmail.com\n",
      "Amit@gmail.com\n",
      "Jon@gmail.com\n"
     ]
    }
   ],
   "source": [
    "for email in emps:\n",
    "    print(email[-1])"
   ]
  },
  {
   "cell_type": "code",
   "execution_count": 24,
   "id": "cb2f581e-404b-46b3-a07e-cdddb6149f00",
   "metadata": {},
   "outputs": [
    {
     "data": {
      "text/plain": [
       "[101, 'Rahul', 53543, 'rahul@gmail.com']"
      ]
     },
     "execution_count": 24,
     "metadata": {},
     "output_type": "execute_result"
    }
   ],
   "source": [
    "emp"
   ]
  },
  {
   "cell_type": "code",
   "execution_count": null,
   "id": "c14d3321-e04f-412e-a598-d65bb736ead1",
   "metadata": {},
   "outputs": [],
   "source": [
    "insert(index,element):\n",
    "to insert single element at given location/index number"
   ]
  },
  {
   "cell_type": "code",
   "execution_count": 25,
   "id": "65552090-2949-482d-9ad3-9a7a21dbdef9",
   "metadata": {},
   "outputs": [
    {
     "data": {
      "text/plain": [
       "[101, 'Rahul', 53543, 'rahul@gmail.com']"
      ]
     },
     "execution_count": 25,
     "metadata": {},
     "output_type": "execute_result"
    }
   ],
   "source": [
    "emp"
   ]
  },
  {
   "cell_type": "code",
   "execution_count": 26,
   "id": "7362325f-0e31-4956-9d4e-2d967d2dc290",
   "metadata": {},
   "outputs": [],
   "source": [
    "emp.insert(2,'Pune')"
   ]
  },
  {
   "cell_type": "code",
   "execution_count": 27,
   "id": "1c1aacf3-fec5-438b-94d3-9da7694998e8",
   "metadata": {},
   "outputs": [
    {
     "data": {
      "text/plain": [
       "[101, 'Rahul', 'Pune', 53543, 'rahul@gmail.com']"
      ]
     },
     "execution_count": 27,
     "metadata": {},
     "output_type": "execute_result"
    }
   ],
   "source": [
    "emp"
   ]
  },
  {
   "cell_type": "code",
   "execution_count": 28,
   "id": "bf342f87-cdc9-4539-b86c-7c49e4d8cf79",
   "metadata": {},
   "outputs": [],
   "source": [
    "emp.insert(4,'Temp')"
   ]
  },
  {
   "cell_type": "code",
   "execution_count": 29,
   "id": "5b49f195-fdd6-4e6f-b342-0465b6ce979f",
   "metadata": {},
   "outputs": [
    {
     "data": {
      "text/plain": [
       "[101, 'Rahul', 'Pune', 53543, 'Temp', 'rahul@gmail.com']"
      ]
     },
     "execution_count": 29,
     "metadata": {},
     "output_type": "execute_result"
    }
   ],
   "source": [
    "emp"
   ]
  },
  {
   "cell_type": "code",
   "execution_count": null,
   "id": "f210fc71-3ea4-4fa8-b025-624c900bc0fc",
   "metadata": {},
   "outputs": [],
   "source": [
    "insert(index,element)"
   ]
  },
  {
   "cell_type": "code",
   "execution_count": 30,
   "id": "c85f4dec-a077-4578-a9ca-f9387b0cb5c5",
   "metadata": {},
   "outputs": [
    {
     "ename": "TypeError",
     "evalue": "insert expected 2 arguments, got 3",
     "output_type": "error",
     "traceback": [
      "\u001b[1;31m---------------------------------------------------------------------------\u001b[0m",
      "\u001b[1;31mTypeError\u001b[0m                                 Traceback (most recent call last)",
      "Cell \u001b[1;32mIn[30], line 1\u001b[0m\n\u001b[1;32m----> 1\u001b[0m emp\u001b[38;5;241m.\u001b[39minsert(\u001b[38;5;241m3\u001b[39m,\u001b[38;5;124m'\u001b[39m\u001b[38;5;124mtemp\u001b[39m\u001b[38;5;124m'\u001b[39m,\u001b[38;5;124m'\u001b[39m\u001b[38;5;124mpython\u001b[39m\u001b[38;5;124m'\u001b[39m)\n",
      "\u001b[1;31mTypeError\u001b[0m: insert expected 2 arguments, got 3"
     ]
    }
   ],
   "source": [
    "emp.insert(3,'temp','python')"
   ]
  },
  {
   "cell_type": "code",
   "execution_count": null,
   "id": "e1384860-5c2a-4e15-aef4-2ae07b51e2e0",
   "metadata": {},
   "outputs": [],
   "source": [
    "2.append(element) --99%\n",
    "\n",
    "to insert single element at the end"
   ]
  },
  {
   "cell_type": "code",
   "execution_count": 31,
   "id": "cdf17304-b8fb-4316-ad16-b29a31cbcb1a",
   "metadata": {},
   "outputs": [],
   "source": [
    "p = [543,75,23,675,'python']"
   ]
  },
  {
   "cell_type": "code",
   "execution_count": 32,
   "id": "1bb99c14-fc90-4cef-a922-16b617f46bca",
   "metadata": {},
   "outputs": [],
   "source": [
    "p.append(100)"
   ]
  },
  {
   "cell_type": "code",
   "execution_count": 33,
   "id": "70560a7e-8e5d-448b-b44f-5471ed31c7d2",
   "metadata": {},
   "outputs": [
    {
     "data": {
      "text/plain": [
       "[543, 75, 23, 675, 'python', 100]"
      ]
     },
     "execution_count": 33,
     "metadata": {},
     "output_type": "execute_result"
    }
   ],
   "source": [
    "p"
   ]
  },
  {
   "cell_type": "code",
   "execution_count": 34,
   "id": "afb10746-b614-46b7-a882-f5435f2abd57",
   "metadata": {},
   "outputs": [],
   "source": [
    "p.append(500)"
   ]
  },
  {
   "cell_type": "code",
   "execution_count": 35,
   "id": "72d064a8-efb7-4644-9414-af6ec793bc04",
   "metadata": {},
   "outputs": [
    {
     "data": {
      "text/plain": [
       "[543, 75, 23, 675, 'python', 100, 500]"
      ]
     },
     "execution_count": 35,
     "metadata": {},
     "output_type": "execute_result"
    }
   ],
   "source": [
    "p"
   ]
  },
  {
   "cell_type": "code",
   "execution_count": null,
   "id": "a7a11410-5672-41f9-9941-a183659d2116",
   "metadata": {},
   "outputs": [],
   "source": [
    "3.extend([group of elements])\n",
    "\n",
    "to insert multiple elements at the end"
   ]
  },
  {
   "cell_type": "code",
   "execution_count": 38,
   "id": "22178045-3a7b-4190-a42f-53792b170e70",
   "metadata": {},
   "outputs": [],
   "source": [
    "p = [1,2,3]"
   ]
  },
  {
   "cell_type": "code",
   "execution_count": 39,
   "id": "db3fd3ce-9664-4d64-97ee-54d3b08d2ddb",
   "metadata": {},
   "outputs": [],
   "source": [
    "p.extend([4,5,6])"
   ]
  },
  {
   "cell_type": "code",
   "execution_count": 40,
   "id": "7ea718ae-d035-436a-9738-2a87edc6467f",
   "metadata": {},
   "outputs": [
    {
     "data": {
      "text/plain": [
       "[1, 2, 3, 4, 5, 6]"
      ]
     },
     "execution_count": 40,
     "metadata": {},
     "output_type": "execute_result"
    }
   ],
   "source": [
    "p"
   ]
  },
  {
   "cell_type": "code",
   "execution_count": 42,
   "id": "a7f62bd2-56d0-4ef9-992c-af4cea340212",
   "metadata": {},
   "outputs": [],
   "source": [
    "emp = [101,'tushar','pune']"
   ]
  },
  {
   "cell_type": "code",
   "execution_count": 43,
   "id": "6bf0a856-f97c-48b9-ae38-6b23fd9a1eab",
   "metadata": {},
   "outputs": [],
   "source": [
    "dept = ['Admin',54534,'Banglore']"
   ]
  },
  {
   "cell_type": "code",
   "execution_count": 44,
   "id": "7cf3f214-0f8b-4131-a29f-3875a82764be",
   "metadata": {},
   "outputs": [],
   "source": [
    "emp.extend(dept)"
   ]
  },
  {
   "cell_type": "code",
   "execution_count": 45,
   "id": "6fd61492-0670-4cfa-a3ed-3c2f4fd57dac",
   "metadata": {},
   "outputs": [
    {
     "data": {
      "text/plain": [
       "[101, 'tushar', 'pune', 'Admin', 54534, 'Banglore']"
      ]
     },
     "execution_count": 45,
     "metadata": {},
     "output_type": "execute_result"
    }
   ],
   "source": [
    "emp"
   ]
  },
  {
   "cell_type": "code",
   "execution_count": null,
   "id": "83b6a44f-fb47-4988-a4f4-1ee31e12431d",
   "metadata": {},
   "outputs": [],
   "source": [
    "append vs extend:\n",
    "=================\n",
    "append\n",
    "\n",
    "single element at the end\n",
    "\n",
    "extend multiple elements at the end"
   ]
  },
  {
   "cell_type": "code",
   "execution_count": 46,
   "id": "72b9c1e0-12b1-406a-a1f5-da63ba58aff1",
   "metadata": {},
   "outputs": [],
   "source": [
    "p = [34,786,34,756]"
   ]
  },
  {
   "cell_type": "code",
   "execution_count": 47,
   "id": "595653d3-5483-4028-808a-87cea9026b20",
   "metadata": {},
   "outputs": [],
   "source": [
    "p.append([100,200,300])"
   ]
  },
  {
   "cell_type": "code",
   "execution_count": 48,
   "id": "74e61d95-b4ff-48c3-9101-2f438de58e4c",
   "metadata": {},
   "outputs": [
    {
     "data": {
      "text/plain": [
       "[34, 786, 34, 756, [100, 200, 300]]"
      ]
     },
     "execution_count": 48,
     "metadata": {},
     "output_type": "execute_result"
    }
   ],
   "source": [
    "p"
   ]
  },
  {
   "cell_type": "code",
   "execution_count": 49,
   "id": "cc2cf2ec-c239-463f-bb2e-2286a3d3250d",
   "metadata": {},
   "outputs": [
    {
     "data": {
      "text/plain": [
       "[100, 200, 300]"
      ]
     },
     "execution_count": 49,
     "metadata": {},
     "output_type": "execute_result"
    }
   ],
   "source": [
    "p[-1]"
   ]
  },
  {
   "cell_type": "code",
   "execution_count": 50,
   "id": "19572e3c-8eba-45f3-a183-d94b97966269",
   "metadata": {},
   "outputs": [
    {
     "data": {
      "text/plain": [
       "[100, 200, 300]"
      ]
     },
     "execution_count": 50,
     "metadata": {},
     "output_type": "execute_result"
    }
   ],
   "source": [
    "p[4]"
   ]
  },
  {
   "cell_type": "code",
   "execution_count": 51,
   "id": "02821671-bf2a-41e4-a214-3d6a6a9e58b2",
   "metadata": {},
   "outputs": [],
   "source": [
    "p = [1,2,3]"
   ]
  },
  {
   "cell_type": "code",
   "execution_count": 58,
   "id": "76fd20b3-4078-4708-8be0-4d13b70afda2",
   "metadata": {},
   "outputs": [],
   "source": [
    "p.extend((100,))"
   ]
  },
  {
   "cell_type": "code",
   "execution_count": 59,
   "id": "e5a782f6-b9ef-4e92-aa66-f9a64989c388",
   "metadata": {},
   "outputs": [
    {
     "data": {
      "text/plain": [
       "[1, 2, 3, 100, 100]"
      ]
     },
     "execution_count": 59,
     "metadata": {},
     "output_type": "execute_result"
    }
   ],
   "source": [
    "p"
   ]
  },
  {
   "cell_type": "code",
   "execution_count": null,
   "id": "51c36d3c-38ac-4c78-834b-af7cdbc7323a",
   "metadata": {},
   "outputs": [],
   "source": [
    "1.Insertion Operation\n",
    "insert(index,element)\n",
    "append(element)\n",
    "extend([group of elements])"
   ]
  },
  {
   "cell_type": "code",
   "execution_count": 60,
   "id": "698cd013-2d36-4af8-99eb-422b9694d638",
   "metadata": {},
   "outputs": [
    {
     "data": {
      "text/plain": [
       "[1, 2, 3, 100, 100]"
      ]
     },
     "execution_count": 60,
     "metadata": {},
     "output_type": "execute_result"
    }
   ],
   "source": [
    "p"
   ]
  },
  {
   "cell_type": "code",
   "execution_count": 61,
   "id": "1226426f-99c6-4495-a732-207c0865c06b",
   "metadata": {},
   "outputs": [
    {
     "data": {
      "text/plain": [
       "5"
      ]
     },
     "execution_count": 61,
     "metadata": {},
     "output_type": "execute_result"
    }
   ],
   "source": [
    "len(p)"
   ]
  },
  {
   "cell_type": "code",
   "execution_count": 62,
   "id": "91cc873f-524b-47ae-85d6-7b4f9e6168bc",
   "metadata": {},
   "outputs": [],
   "source": [
    "p = [75,23,86,34,86,324,97,34,75,54,754,4,564,673,4]"
   ]
  },
  {
   "cell_type": "code",
   "execution_count": 63,
   "id": "3ada8b2d-86d8-4dc5-9f06-6b1c7eb231a4",
   "metadata": {},
   "outputs": [
    {
     "data": {
      "text/plain": [
       "15"
      ]
     },
     "execution_count": 63,
     "metadata": {},
     "output_type": "execute_result"
    }
   ],
   "source": [
    "len(p)"
   ]
  },
  {
   "cell_type": "code",
   "execution_count": null,
   "id": "d00c16da-96e5-48ee-bb06-f2d014a5f697",
   "metadata": {},
   "outputs": [],
   "source": [
    "append -- single insert at the end\n",
    "\n",
    "extend -- multiple elements"
   ]
  },
  {
   "cell_type": "code",
   "execution_count": 64,
   "id": "8b1109cb-79ca-459f-88b3-e1d2ce734018",
   "metadata": {},
   "outputs": [],
   "source": [
    "p = [100,200,300]"
   ]
  },
  {
   "cell_type": "code",
   "execution_count": 65,
   "id": "f0ef014a-0112-4ba3-b1fc-c4a3d96960d3",
   "metadata": {},
   "outputs": [],
   "source": [
    "p.append(400)"
   ]
  },
  {
   "cell_type": "code",
   "execution_count": 66,
   "id": "07797a24-0618-4e0c-ae4a-a99f82de7eca",
   "metadata": {},
   "outputs": [
    {
     "data": {
      "text/plain": [
       "[100, 200, 300, 400]"
      ]
     },
     "execution_count": 66,
     "metadata": {},
     "output_type": "execute_result"
    }
   ],
   "source": [
    "p"
   ]
  },
  {
   "cell_type": "code",
   "execution_count": 67,
   "id": "dd32921c-4680-49d6-b573-7f0261e2759a",
   "metadata": {},
   "outputs": [],
   "source": [
    "p.extend([1,2,3,4])"
   ]
  },
  {
   "cell_type": "code",
   "execution_count": 68,
   "id": "ed4bfce3-7124-46e9-ae1d-242c74d1776a",
   "metadata": {},
   "outputs": [
    {
     "data": {
      "text/plain": [
       "[100, 200, 300, 400, 1, 2, 3, 4]"
      ]
     },
     "execution_count": 68,
     "metadata": {},
     "output_type": "execute_result"
    }
   ],
   "source": [
    "p"
   ]
  },
  {
   "cell_type": "code",
   "execution_count": 69,
   "id": "587dd801-4448-4e90-b028-473238c9c1a1",
   "metadata": {},
   "outputs": [],
   "source": [
    "p.append(['a','b','c'])"
   ]
  },
  {
   "cell_type": "code",
   "execution_count": 70,
   "id": "12e32ec7-4dbe-4903-b2cb-30a7ef17a49b",
   "metadata": {},
   "outputs": [
    {
     "data": {
      "text/plain": [
       "[100, 200, 300, 400, 1, 2, 3, 4, ['a', 'b', 'c']]"
      ]
     },
     "execution_count": 70,
     "metadata": {},
     "output_type": "execute_result"
    }
   ],
   "source": [
    "p"
   ]
  },
  {
   "cell_type": "code",
   "execution_count": 71,
   "id": "aa9cf956-d766-47f3-9f62-752170da308b",
   "metadata": {},
   "outputs": [],
   "source": [
    "p.extend([5000])"
   ]
  },
  {
   "cell_type": "code",
   "execution_count": 72,
   "id": "85fd3e66-0d6f-497e-9bbf-18e740a31085",
   "metadata": {},
   "outputs": [
    {
     "data": {
      "text/plain": [
       "[100, 200, 300, 400, 1, 2, 3, 4, ['a', 'b', 'c'], 5000]"
      ]
     },
     "execution_count": 72,
     "metadata": {},
     "output_type": "execute_result"
    }
   ],
   "source": [
    "p"
   ]
  },
  {
   "cell_type": "code",
   "execution_count": null,
   "id": "fd0d7a1e-a973-4933-8bba-4f96985c42ba",
   "metadata": {},
   "outputs": [],
   "source": [
    "Data -- Transformation \n",
    "\n",
    "Data Store -- DS -- LIST  -- [101,'Arun','Arun@gmail.com',656565]\n",
    "Data Fetch \n",
    "Data -- Database | Dataware Store "
   ]
  }
 ],
 "metadata": {
  "kernelspec": {
   "display_name": "Python 3 (ipykernel)",
   "language": "python",
   "name": "python3"
  },
  "language_info": {
   "codemirror_mode": {
    "name": "ipython",
    "version": 3
   },
   "file_extension": ".py",
   "mimetype": "text/x-python",
   "name": "python",
   "nbconvert_exporter": "python",
   "pygments_lexer": "ipython3",
   "version": "3.12.7"
  }
 },
 "nbformat": 4,
 "nbformat_minor": 5
}
