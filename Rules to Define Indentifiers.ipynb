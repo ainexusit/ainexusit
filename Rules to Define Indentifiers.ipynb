{
 "cells": [
  {
   "cell_type": "code",
   "execution_count": 1,
   "id": "a86f2309-89c5-4136-94de-8f4de41d35cc",
   "metadata": {},
   "outputs": [],
   "source": [
    "a = 100"
   ]
  },
  {
   "cell_type": "code",
   "execution_count": 2,
   "id": "42d5ef6d-eadc-4aa6-a774-b453a4340836",
   "metadata": {},
   "outputs": [
    {
     "data": {
      "text/plain": [
       "100"
      ]
     },
     "execution_count": 2,
     "metadata": {},
     "output_type": "execute_result"
    }
   ],
   "source": [
    "a"
   ]
  },
  {
   "cell_type": "code",
   "execution_count": 3,
   "id": "8450afa9-25e2-4c63-86e1-5a5db856701c",
   "metadata": {},
   "outputs": [],
   "source": [
    "temp = 'python'"
   ]
  },
  {
   "cell_type": "code",
   "execution_count": 4,
   "id": "e9c44925-5ee0-4494-932f-dcd7bb8f9701",
   "metadata": {},
   "outputs": [
    {
     "name": "stdout",
     "output_type": "stream",
     "text": [
      "python\n"
     ]
    }
   ],
   "source": [
    "print(temp)"
   ]
  },
  {
   "cell_type": "code",
   "execution_count": null,
   "id": "38db3827-9a7b-4268-aa36-96fb08f822c2",
   "metadata": {},
   "outputs": [],
   "source": [
    "cell -- CODE \n",
    "cell CODE execute : GUI run \n",
    "shift + enter"
   ]
  },
  {
   "cell_type": "code",
   "execution_count": null,
   "id": "6ed071e9-440b-44be-b07c-5d428e29d572",
   "metadata": {},
   "outputs": [],
   "source": [
    "Rules to Define Identifiers:\n",
    "============================\n",
    "\n",
    "Identifiers:\n",
    "The name given to variable ,function ,class\n"
   ]
  },
  {
   "cell_type": "code",
   "execution_count": null,
   "id": "90c5b583-e155-4a71-9f91-40c160f322b7",
   "metadata": {},
   "outputs": [],
   "source": [
    "1.allowed chars are a-z,A-Z,0-9,_"
   ]
  },
  {
   "cell_type": "code",
   "execution_count": 5,
   "id": "910c862f-1570-43de-aeec-877d931aa7eb",
   "metadata": {},
   "outputs": [],
   "source": [
    "emp_address = 'Pune'"
   ]
  },
  {
   "cell_type": "code",
   "execution_count": 6,
   "id": "b22ba79e-73ba-4634-a706-3051d4d4b70e",
   "metadata": {},
   "outputs": [
    {
     "ename": "SyntaxError",
     "evalue": "invalid syntax (1862093317.py, line 1)",
     "output_type": "error",
     "traceback": [
      "\u001b[1;36m  Cell \u001b[1;32mIn[6], line 1\u001b[1;36m\u001b[0m\n\u001b[1;33m    EMP ADDRESS = \"Pune\"\u001b[0m\n\u001b[1;37m        ^\u001b[0m\n\u001b[1;31mSyntaxError\u001b[0m\u001b[1;31m:\u001b[0m invalid syntax\n"
     ]
    }
   ],
   "source": [
    "EMP ADDRESS = \"Pune\""
   ]
  },
  {
   "cell_type": "code",
   "execution_count": 7,
   "id": "688aafa3-99af-4f82-9900-a0ed125d8bde",
   "metadata": {},
   "outputs": [],
   "source": [
    "emp1 = 5353"
   ]
  },
  {
   "cell_type": "code",
   "execution_count": 8,
   "id": "e278951c-f011-40e9-a12d-164ff1582b7f",
   "metadata": {},
   "outputs": [],
   "source": [
    "empNAME = 'test'"
   ]
  },
  {
   "cell_type": "code",
   "execution_count": 9,
   "id": "08e75131-ac21-433d-9051-8ed2e0ad190b",
   "metadata": {},
   "outputs": [],
   "source": [
    "emp1address = 'pune'"
   ]
  },
  {
   "cell_type": "code",
   "execution_count": 10,
   "id": "9e552a04-5cb3-420d-bb69-ac05f2e4a152",
   "metadata": {},
   "outputs": [
    {
     "data": {
      "text/plain": [
       "'pune'"
      ]
     },
     "execution_count": 10,
     "metadata": {},
     "output_type": "execute_result"
    }
   ],
   "source": [
    "emp1address"
   ]
  },
  {
   "cell_type": "code",
   "execution_count": 11,
   "id": "3be2f276-933d-4ff8-9c1f-73b57d9a3110",
   "metadata": {},
   "outputs": [],
   "source": [
    "emp_ADDRESS = 'pune'"
   ]
  },
  {
   "cell_type": "code",
   "execution_count": 12,
   "id": "bb2c76c4-366a-4fb5-8bef-ac0ad26591a0",
   "metadata": {},
   "outputs": [
    {
     "data": {
      "text/plain": [
       "'pune'"
      ]
     },
     "execution_count": 12,
     "metadata": {},
     "output_type": "execute_result"
    }
   ],
   "source": [
    "emp_ADDRESS"
   ]
  },
  {
   "cell_type": "code",
   "execution_count": null,
   "id": "f43a2f9d-676e-4347-8ac4-b4ff85aca204",
   "metadata": {},
   "outputs": [],
   "source": [
    "2.indetifiers never startswith number"
   ]
  },
  {
   "cell_type": "code",
   "execution_count": 13,
   "id": "a0db30bd-9d1c-45b7-9866-351103df61d3",
   "metadata": {},
   "outputs": [],
   "source": [
    "emp1 = 4334"
   ]
  },
  {
   "cell_type": "code",
   "execution_count": 14,
   "id": "d725aad3-492e-47af-8b87-5db4ec80ad90",
   "metadata": {},
   "outputs": [
    {
     "ename": "SyntaxError",
     "evalue": "invalid decimal literal (272399964.py, line 1)",
     "output_type": "error",
     "traceback": [
      "\u001b[1;36m  Cell \u001b[1;32mIn[14], line 1\u001b[1;36m\u001b[0m\n\u001b[1;33m    1emp = 3434\u001b[0m\n\u001b[1;37m    ^\u001b[0m\n\u001b[1;31mSyntaxError\u001b[0m\u001b[1;31m:\u001b[0m invalid decimal literal\n"
     ]
    }
   ],
   "source": [
    "1emp = 3434"
   ]
  },
  {
   "cell_type": "code",
   "execution_count": null,
   "id": "fce1608a-4b71-496c-904f-67807296e896",
   "metadata": {},
   "outputs": [],
   "source": [
    "3.no limit on indentifiers length\n",
    "\n",
    "it is not recommnded \n",
    "always use meaningfull variable"
   ]
  },
  {
   "cell_type": "code",
   "execution_count": 15,
   "id": "3591fb38-ea09-424e-aeb8-de5485d48977",
   "metadata": {},
   "outputs": [],
   "source": [
    "xxxxxxxxxxxxxxxxxxxxxxxxxxxxxxxxxxxxxxxxxxxxxxxxxxxxxxxxxxxxxx = 100"
   ]
  },
  {
   "cell_type": "code",
   "execution_count": 16,
   "id": "5086fa83-2d83-4dc2-887c-3f5b7e672477",
   "metadata": {},
   "outputs": [
    {
     "data": {
      "text/plain": [
       "100"
      ]
     },
     "execution_count": 16,
     "metadata": {},
     "output_type": "execute_result"
    }
   ],
   "source": [
    "xxxxxxxxxxxxxxxxxxxxxxxxxxxxxxxxxxxxxxxxxxxxxxxxxxxxxxxxxxxxxx"
   ]
  },
  {
   "cell_type": "code",
   "execution_count": 17,
   "id": "1f757d44-0e44-4ecf-8f55-0789be53f017",
   "metadata": {},
   "outputs": [],
   "source": [
    "e  =10"
   ]
  },
  {
   "cell_type": "code",
   "execution_count": 18,
   "id": "1eed6d1f-14bc-47cc-bfc6-62fe40d58d33",
   "metadata": {},
   "outputs": [],
   "source": [
    "empdeptid = 10"
   ]
  },
  {
   "cell_type": "code",
   "execution_count": null,
   "id": "12982844-5a91-43d6-8f44-ba8920b6aa49",
   "metadata": {},
   "outputs": [],
   "source": [
    "Case Rule:\n",
    "1.PascalCase\n",
    "2.camelCase\n",
    "3.snake_case"
   ]
  },
  {
   "cell_type": "code",
   "execution_count": 19,
   "id": "de9a60cc-934a-441c-bb96-a36d8eb9fd94",
   "metadata": {},
   "outputs": [],
   "source": [
    "EmpCity = 'Pune'"
   ]
  },
  {
   "cell_type": "code",
   "execution_count": 20,
   "id": "450f6fb2-3e5f-48dd-8a93-e940b1014a7f",
   "metadata": {},
   "outputs": [],
   "source": [
    "EmpDeptByLocation = 'Pune'"
   ]
  },
  {
   "cell_type": "code",
   "execution_count": 21,
   "id": "a5984064-e802-4683-98e9-2e18968bdba7",
   "metadata": {},
   "outputs": [
    {
     "data": {
      "text/plain": [
       "'Pune'"
      ]
     },
     "execution_count": 21,
     "metadata": {},
     "output_type": "execute_result"
    }
   ],
   "source": [
    "EmpDeptByLocation"
   ]
  },
  {
   "cell_type": "code",
   "execution_count": null,
   "id": "60fba101-cbd9-44b9-a18d-7c8e718d3f15",
   "metadata": {},
   "outputs": [],
   "source": [
    "GoolePay\n",
    "FedEx\n",
    "YouTube"
   ]
  },
  {
   "cell_type": "code",
   "execution_count": null,
   "id": "a555e8fe-7824-49da-89fd-264fc6df07ef",
   "metadata": {},
   "outputs": [],
   "source": [
    "2.camelCase"
   ]
  },
  {
   "cell_type": "code",
   "execution_count": null,
   "id": "e095d126-f364-48d4-95a3-66b8e94fa51d",
   "metadata": {},
   "outputs": [],
   "source": [
    "eBay \n",
    "iPhone\n",
    "redBus"
   ]
  },
  {
   "cell_type": "code",
   "execution_count": null,
   "id": "2c7ade73-9a10-4a8c-b4c1-438ed09d9124",
   "metadata": {},
   "outputs": [],
   "source": [
    "empNameByDept"
   ]
  },
  {
   "cell_type": "code",
   "execution_count": null,
   "id": "d1e6cc68-a61a-4671-80dc-6b571cc59645",
   "metadata": {},
   "outputs": [],
   "source": [
    "eId \n",
    "eAddress\n",
    "aId\n",
    "aName\n"
   ]
  },
  {
   "cell_type": "code",
   "execution_count": null,
   "id": "563034fb-c7a1-41e5-a24e-290ea7247031",
   "metadata": {},
   "outputs": [],
   "source": [
    "3.snake_case"
   ]
  },
  {
   "cell_type": "code",
   "execution_count": null,
   "id": "55828f48-7330-47b4-aa40-b8e3a61f5ca6",
   "metadata": {},
   "outputs": [],
   "source": [
    "emp_name_by_dept\n",
    "\n",
    "emp_address\n",
    "\n",
    "emp_city\n",
    "\n",
    "product_price_by_location"
   ]
  },
  {
   "cell_type": "code",
   "execution_count": null,
   "id": "6bdb00ee-4c8c-480a-9c1b-75d043f3f943",
   "metadata": {},
   "outputs": [],
   "source": [
    "4.we can'nt use Keyword as Identifiers"
   ]
  },
  {
   "cell_type": "code",
   "execution_count": null,
   "id": "e68d69dd-b769-47a8-9dcc-dd1cbb0d7029",
   "metadata": {},
   "outputs": [],
   "source": [
    "keyword :\n",
    "reserved word by Python"
   ]
  },
  {
   "cell_type": "code",
   "execution_count": 22,
   "id": "56de56b3-eba9-4092-9354-d12772f05f3a",
   "metadata": {},
   "outputs": [
    {
     "data": {
      "text/plain": [
       "['False',\n",
       " 'None',\n",
       " 'True',\n",
       " 'and',\n",
       " 'as',\n",
       " 'assert',\n",
       " 'async',\n",
       " 'await',\n",
       " 'break',\n",
       " 'class',\n",
       " 'continue',\n",
       " 'def',\n",
       " 'del',\n",
       " 'elif',\n",
       " 'else',\n",
       " 'except',\n",
       " 'finally',\n",
       " 'for',\n",
       " 'from',\n",
       " 'global',\n",
       " 'if',\n",
       " 'import',\n",
       " 'in',\n",
       " 'is',\n",
       " 'lambda',\n",
       " 'nonlocal',\n",
       " 'not',\n",
       " 'or',\n",
       " 'pass',\n",
       " 'raise',\n",
       " 'return',\n",
       " 'try',\n",
       " 'while',\n",
       " 'with',\n",
       " 'yield']"
      ]
     },
     "execution_count": 22,
     "metadata": {},
     "output_type": "execute_result"
    }
   ],
   "source": [
    "import keyword\n",
    "keyword.kwlist"
   ]
  },
  {
   "cell_type": "code",
   "execution_count": 23,
   "id": "ca5b36e7-8067-4126-9c76-cb9a7c21e690",
   "metadata": {},
   "outputs": [
    {
     "ename": "SyntaxError",
     "evalue": "invalid syntax (434699542.py, line 1)",
     "output_type": "error",
     "traceback": [
      "\u001b[1;36m  Cell \u001b[1;32mIn[23], line 1\u001b[1;36m\u001b[0m\n\u001b[1;33m    break = 45\u001b[0m\n\u001b[1;37m          ^\u001b[0m\n\u001b[1;31mSyntaxError\u001b[0m\u001b[1;31m:\u001b[0m invalid syntax\n"
     ]
    }
   ],
   "source": [
    "break = 45"
   ]
  },
  {
   "cell_type": "code",
   "execution_count": 24,
   "id": "10c07727-8906-4b9f-87cc-758843ce3241",
   "metadata": {},
   "outputs": [
    {
     "ename": "SyntaxError",
     "evalue": "invalid syntax (3179281577.py, line 1)",
     "output_type": "error",
     "traceback": [
      "\u001b[1;36m  Cell \u001b[1;32mIn[24], line 1\u001b[1;36m\u001b[0m\n\u001b[1;33m    with =34343\u001b[0m\n\u001b[1;37m         ^\u001b[0m\n\u001b[1;31mSyntaxError\u001b[0m\u001b[1;31m:\u001b[0m invalid syntax\n"
     ]
    }
   ],
   "source": [
    "with =34343"
   ]
  },
  {
   "cell_type": "code",
   "execution_count": null,
   "id": "91ea61fd-6a9b-436b-b45e-eb973070bf25",
   "metadata": {},
   "outputs": [],
   "source": [
    "5.Python is case sensitive Lang"
   ]
  },
  {
   "cell_type": "code",
   "execution_count": null,
   "id": "aef4ffcd-9f2b-42bc-928e-b4a0403cd6ff",
   "metadata": {},
   "outputs": [],
   "source": [
    "A\n",
    "a \n",
    "\n",
    "python\n",
    "PYTHON "
   ]
  },
  {
   "cell_type": "code",
   "execution_count": 25,
   "id": "0b5421e1-793e-4e50-b430-210a5f8d4821",
   "metadata": {},
   "outputs": [],
   "source": [
    "a  =100"
   ]
  },
  {
   "cell_type": "code",
   "execution_count": 26,
   "id": "ef7cf159-b8bc-4adf-be0b-42d957ac48c4",
   "metadata": {},
   "outputs": [],
   "source": [
    "A = 500"
   ]
  },
  {
   "cell_type": "code",
   "execution_count": 27,
   "id": "447f5f3f-217a-42a9-bca2-b5b7847a0a71",
   "metadata": {},
   "outputs": [
    {
     "data": {
      "text/plain": [
       "100"
      ]
     },
     "execution_count": 27,
     "metadata": {},
     "output_type": "execute_result"
    }
   ],
   "source": [
    "a"
   ]
  },
  {
   "cell_type": "code",
   "execution_count": 28,
   "id": "863ea85c-b8dd-4655-abb7-b48134577d5d",
   "metadata": {},
   "outputs": [
    {
     "data": {
      "text/plain": [
       "500"
      ]
     },
     "execution_count": 28,
     "metadata": {},
     "output_type": "execute_result"
    }
   ],
   "source": [
    "A"
   ]
  },
  {
   "cell_type": "code",
   "execution_count": null,
   "id": "1755caa6-dc4f-4f16-ad36-005bb87818d5",
   "metadata": {},
   "outputs": [],
   "source": [
    "Data Types | DS"
   ]
  }
 ],
 "metadata": {
  "kernelspec": {
   "display_name": "Python 3 (ipykernel)",
   "language": "python",
   "name": "python3"
  },
  "language_info": {
   "codemirror_mode": {
    "name": "ipython",
    "version": 3
   },
   "file_extension": ".py",
   "mimetype": "text/x-python",
   "name": "python",
   "nbconvert_exporter": "python",
   "pygments_lexer": "ipython3",
   "version": "3.12.7"
  }
 },
 "nbformat": 4,
 "nbformat_minor": 5
}
